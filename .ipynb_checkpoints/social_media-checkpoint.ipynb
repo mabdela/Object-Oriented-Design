{
 "cells": [
  {
   "cell_type": "code",
   "execution_count": 1,
   "metadata": {},
   "outputs": [],
   "source": [
    "from collections import defaultdict\n",
    "\n",
    "class Node:\n",
    "    def __init__(self, fname,lname):\n",
    "        self.fname = fname\n",
    "        self.lname = lname\n",
    "        \n",
    "class Graph:\n",
    "    def __init__(self, fname, lname):\n",
    "        self.root = Node(fname, lname) \n",
    "        self.friends = list()\n",
    "        \n",
    "    def addFriend(self, friend):\n",
    "        self.friends.append(friend)\n",
    "        \n",
    "    def getFriends(self):\n",
    "        return self.friends\n",
    "    \n",
    "    def searchFriend(self, fname, lname=None):\n",
    "        result = []\n",
    "        for friend in self.friends:\n",
    "            \n",
    "            if fname==friend.fname and lname==None:\n",
    "                result.append(friend)\n",
    "            elif fname==friend.fname and lname ==friend.lname:\n",
    "                result.append(friend)\n",
    "        \n",
    "        for item in result:\n",
    "            print(item.fname+\" \"+item.lname)  \n",
    "            \n",
    "    def printFriends(self):\n",
    "        for friend in self.getFriends():\n",
    "            print(friend.fname+\" \"+friend.lname)"
   ]
  },
  {
   "cell_type": "code",
   "execution_count": 2,
   "metadata": {},
   "outputs": [],
   "source": [
    "obj = Graph(\"Mubarek\", \"Ke\")"
   ]
  },
  {
   "cell_type": "code",
   "execution_count": 3,
   "metadata": {},
   "outputs": [],
   "source": [
    "friend1 = Node(\"Haile\", \"G\")"
   ]
  },
  {
   "cell_type": "code",
   "execution_count": 4,
   "metadata": {},
   "outputs": [
    {
     "name": "stdout",
     "output_type": "stream",
     "text": [
      "Haile G\n"
     ]
    }
   ],
   "source": [
    "obj.addFriend(friend1)\n",
    "obj.printFriends()"
   ]
  },
  {
   "cell_type": "code",
   "execution_count": null,
   "metadata": {},
   "outputs": [],
   "source": []
  }
 ],
 "metadata": {
  "kernelspec": {
   "display_name": "Python 3",
   "language": "python",
   "name": "python3"
  },
  "language_info": {
   "codemirror_mode": {
    "name": "ipython",
    "version": 3
   },
   "file_extension": ".py",
   "mimetype": "text/x-python",
   "name": "python",
   "nbconvert_exporter": "python",
   "pygments_lexer": "ipython3",
   "version": "3.7.3"
  }
 },
 "nbformat": 4,
 "nbformat_minor": 2
}
